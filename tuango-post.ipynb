{
 "cells": [
  {
   "cell_type": "markdown",
   "metadata": {},
   "source": [
    "> Note: Please read Question 17 at the end of this document carefully before you start your work! You will need to provide a detailed discussion of how you used GenAI for this assignment so make sure to keep notes, create screenshots, etc. so you keep track of your “discussions” as you go through each question."
   ]
  },
  {
   "cell_type": "markdown",
   "metadata": {},
   "source": [
    "> Note: Please also review the assignment PDF in this assignment. That document has the most details about what you are expected to do to complete this individual assignment. Good luck! "
   ]
  },
  {
   "attachments": {},
   "cell_type": "markdown",
   "metadata": {},
   "source": [
    "# Tuango - Targeting Mobile App Messages\n",
    "\n",
    "Prepare \"Tuango: Targeting Mobile Push Messages\" for class discussion and as an individual assignment and submit the assignment through GitHub. Detailed instructions are available on Canvas (tuango.pdf). See the assignment on Canvas for the \"invitation\" to get the repo. Once you accepted the invitation, you should see the repo at the page below.\n",
    "\n",
    "See the assignment on Canvas for the \"invitation\" to get the repo. Once you accepted the invitation, you should see the repo at the page below.\n",
    "\n",
    "<https://github.com/rady-msba>\n",
    "\n",
    "Add code and your answers for all questions to the tuango.ipynb. When you are done with this individual assignment, save your code and commit and push the results to GitHub. Of course you can commit and push code as often as you like, but only before the due date. View the video linked below to refresh your memory on how to clone and push repos.\n",
    "\n",
    "https://youtu.be/w6yzFv44CMc \n",
    "\n",
    "Add text motivating your work in Markdown format. Markdown is a simple formatting syntax for authoring HTML. For more details on using markdown go to http://commonmark.org/help/ for a 10-minute interactive Markdown tutorial\n",
    "\n",
    "Note that your python code must be fully \"reproducible\". That is, your code must without errors on my (or the TAs) computer. There are will not be any explicit tests for this assignment to confirm if your answers are (not) correct. However, the system will run your code and it is important to check that there is a green checkmark rather than a red X. See .github/workflows/run-code.yml for the configuration. \n",
    "\n",
    "If you get a red X, that means your code did not run without errors and that there are things for you the check and fix. When you are done, submit the link to your repo to Canvas. To help you get started, review the logistic regression examples available using the command below. Focus on the bbb-logistic example.\n",
    "\n",
    "usethis \"https://www.dropbox.com/sh/af6t2nvca610d13/AAAtJSph3kyajjd9698MJ1zIa?dl=1\"\n",
    "\n",
    "This is an individual assignment. As a reminder, it is an honor code violation to share any assignment or exam solution from this class with another student in a current class or a future class generation. This includes using cloud storage like Google Drive. It is also an honor code violation to obtain assignments or exams from a student in another current class or a past class generation for use as an aid in solving problems to be turned in and  graded. Please respect the honor code as it helps to maintain parity in the classroom. Any suspected violation will be reported to the Academic Integrity Office for review.\n",
    "\n",
    "## Setup\n",
    "\n",
    "Please complete this python notebook by answering the questions 1-16 in `tuango-msba.pdf`. The code blocks below will load a few python modules you will need and also the data you will need for this first notebook. As you will see, you will also need to create a second notebook called `tuango-post.ipynb`.\n",
    "\n",
    "> Hint: Make sure to study the reading on \"Applied Logistic Regression using Pyrsm and Radiant-for-Python\" which has examples on how to run logistic regression models using the PYRSM package"
   ]
  },
  {
   "cell_type": "code",
   "execution_count": 1,
   "metadata": {},
   "outputs": [],
   "source": [
    "import numpy as np\n",
    "import pandas as pd\n",
    "import polars as pl\n",
    "import pyrsm as rsm\n",
    "import seaborn as sns\n",
    "\n",
    "# you can import additional python packages but only use packages that\n",
    "# are already part of the docker container"
   ]
  },
  {
   "cell_type": "code",
   "execution_count": 2,
   "metadata": {},
   "outputs": [
    {
     "data": {
      "text/plain": [
       "'0.9.13'"
      ]
     },
     "execution_count": 2,
     "metadata": {},
     "output_type": "execute_result"
    }
   ],
   "source": [
    "# check that you have version 0.9.10 of pyrsm or newer\n",
    "rsm.__version__"
   ]
  },
  {
   "cell_type": "code",
   "execution_count": 3,
   "metadata": {},
   "outputs": [
    {
     "data": {
      "text/html": [
       "<div>\n",
       "<style scoped>\n",
       "    .dataframe tbody tr th:only-of-type {\n",
       "        vertical-align: middle;\n",
       "    }\n",
       "\n",
       "    .dataframe tbody tr th {\n",
       "        vertical-align: top;\n",
       "    }\n",
       "\n",
       "    .dataframe thead th {\n",
       "        text-align: right;\n",
       "    }\n",
       "</style>\n",
       "<table border=\"1\" class=\"dataframe\">\n",
       "  <thead>\n",
       "    <tr style=\"text-align: right;\">\n",
       "      <th></th>\n",
       "      <th>userid</th>\n",
       "      <th>buyer</th>\n",
       "      <th>ordersize</th>\n",
       "      <th>recency</th>\n",
       "      <th>frequency</th>\n",
       "      <th>monetary</th>\n",
       "      <th>age</th>\n",
       "      <th>gender</th>\n",
       "      <th>music</th>\n",
       "      <th>training</th>\n",
       "      <th>test</th>\n",
       "    </tr>\n",
       "  </thead>\n",
       "  <tbody>\n",
       "    <tr>\n",
       "      <th>0</th>\n",
       "      <td>U15889344</td>\n",
       "      <td>no</td>\n",
       "      <td>0.0</td>\n",
       "      <td>309</td>\n",
       "      <td>7.0</td>\n",
       "      <td>39.799999</td>\n",
       "      <td>44</td>\n",
       "      <td>F</td>\n",
       "      <td>yes</td>\n",
       "      <td>0.0</td>\n",
       "      <td>1</td>\n",
       "    </tr>\n",
       "    <tr>\n",
       "      <th>1</th>\n",
       "      <td>U60246497</td>\n",
       "      <td>no</td>\n",
       "      <td>0.0</td>\n",
       "      <td>297</td>\n",
       "      <td>8.0</td>\n",
       "      <td>39.799999</td>\n",
       "      <td>80</td>\n",
       "      <td>M</td>\n",
       "      <td>yes</td>\n",
       "      <td>1.0</td>\n",
       "      <td>1</td>\n",
       "    </tr>\n",
       "    <tr>\n",
       "      <th>2</th>\n",
       "      <td>U22965759</td>\n",
       "      <td>no</td>\n",
       "      <td>0.0</td>\n",
       "      <td>295</td>\n",
       "      <td>1.0</td>\n",
       "      <td>72.900002</td>\n",
       "      <td>59</td>\n",
       "      <td>F</td>\n",
       "      <td>yes</td>\n",
       "      <td>1.0</td>\n",
       "      <td>1</td>\n",
       "    </tr>\n",
       "    <tr>\n",
       "      <th>3</th>\n",
       "      <td>U40811142</td>\n",
       "      <td>no</td>\n",
       "      <td>0.0</td>\n",
       "      <td>277</td>\n",
       "      <td>1.0</td>\n",
       "      <td>40.000000</td>\n",
       "      <td>37</td>\n",
       "      <td>F</td>\n",
       "      <td>yes</td>\n",
       "      <td>0.0</td>\n",
       "      <td>1</td>\n",
       "    </tr>\n",
       "    <tr>\n",
       "      <th>4</th>\n",
       "      <td>U76283952</td>\n",
       "      <td>no</td>\n",
       "      <td>0.0</td>\n",
       "      <td>259</td>\n",
       "      <td>1.0</td>\n",
       "      <td>21.000000</td>\n",
       "      <td>43</td>\n",
       "      <td>F</td>\n",
       "      <td>yes</td>\n",
       "      <td>1.0</td>\n",
       "      <td>1</td>\n",
       "    </tr>\n",
       "  </tbody>\n",
       "</table>\n",
       "</div>"
      ],
      "text/plain": [
       "      userid buyer  ordersize  recency  frequency   monetary  age gender  \\\n",
       "0  U15889344    no        0.0      309        7.0  39.799999   44      F   \n",
       "1  U60246497    no        0.0      297        8.0  39.799999   80      M   \n",
       "2  U22965759    no        0.0      295        1.0  72.900002   59      F   \n",
       "3  U40811142    no        0.0      277        1.0  40.000000   37      F   \n",
       "4  U76283952    no        0.0      259        1.0  21.000000   43      F   \n",
       "\n",
       "  music  training  test  \n",
       "0   yes       0.0     1  \n",
       "1   yes       1.0     1  \n",
       "2   yes       1.0     1  \n",
       "3   yes       0.0     1  \n",
       "4   yes       1.0     1  "
      ]
     },
     "execution_count": 3,
     "metadata": {},
     "output_type": "execute_result"
    }
   ],
   "source": [
    "# Use this dataset and notebook to answer questions 1-13\n",
    "tuango = pd.read_parquet(\"data/tuango_post.parquet\")\n",
    "tuango.head()"
   ]
  },
  {
   "cell_type": "code",
   "execution_count": 4,
   "metadata": {},
   "outputs": [],
   "source": [
    "# feel free to use polars instead of pandas if you prefer\n",
    "# but you will need to ajust some of the sample code below \n",
    "# to make it work\n",
    "# tuango = pl.read_parquet(\"data/tuango_pre.parquet\")"
   ]
  },
  {
   "cell_type": "code",
   "execution_count": 5,
   "metadata": {},
   "outputs": [
    {
     "data": {
      "text/markdown": [
       "# Tuango: Targeting Mobile App Push Messages\n",
       "\n",
       "This file has the roll-out results. There are no missing values for `buyer` and `ordersize`. The other variables are the same as in the pre dataset.\n",
       "\n",
       "## Variable Names and Descriptions\n",
       "* userid: Unique user ID\n",
       "\n",
       "**Response to the customized push message**\n",
       "* buyer: Did the customer buy the Karaoke deal? (\"yes\" or \"no\")\n",
       "* ordersize: Number of 30-minute Karaoke sessions the customer purchased\n",
       "\n",
       "**Recency, Frequency, and Monetary variables**\n",
       "* recency: Days since last purchase of a deal (before the Karaoke deal offer)\n",
       "* frequency: Number of deals purchased during the one year period before the Karaoke deal offer\n",
       "* monetary: Average amount spent per order (in RMB) during the one year period before the Karaoke deal offer\n",
       "\n",
       "**Other variables in the dataset**\n",
       "* age: Age of the customer\n",
       "* gender: Gender identity of the customer (M = male, F = female, O = Other or unknown)\n",
       "* music: Customer made a purchase in the music category during the one-year period before the Karaoke deal offer (\"no\" or \"yes\")\n",
       "* test: Splits the dataset into test (1) and rollout (0) data\n",
       "* training: Splits the dataset into training (1) and test (0) data. This variable will not be used in this assignment"
      ],
      "text/plain": [
       "<IPython.core.display.Markdown object>"
      ]
     },
     "metadata": {},
     "output_type": "display_data"
    }
   ],
   "source": [
    "# dataset description\n",
    "tuango_description = rsm.md(\"data/tuango_post_description.md\")"
   ]
  },
  {
   "cell_type": "code",
   "execution_count": 6,
   "metadata": {},
   "outputs": [
    {
     "data": {
      "text/plain": [
       "buyer\n",
       "no     377925\n",
       "yes     40235\n",
       "Name: count, dtype: int64"
      ]
     },
     "execution_count": 6,
     "metadata": {},
     "output_type": "execute_result"
    }
   ],
   "source": [
    "# you will likely find the below useful in this assignment\n",
    "# (i.e., there are missing values in the data that you will need to deal with)\n",
    "tuango.buyer.value_counts(dropna=False)"
   ]
  },
  {
   "cell_type": "code",
   "execution_count": 7,
   "metadata": {},
   "outputs": [
    {
     "data": {
      "text/plain": [
       "buyer\n",
       "False    418160\n",
       "Name: count, dtype: int64"
      ]
     },
     "execution_count": 7,
     "metadata": {},
     "output_type": "execute_result"
    }
   ],
   "source": [
    "# you will likely find the below useful in this assignment\n",
    "tuango.buyer.isna().value_counts()"
   ]
  },
  {
   "cell_type": "code",
   "execution_count": 8,
   "metadata": {},
   "outputs": [
    {
     "data": {
      "text/plain": [
       "buyer_yes\n",
       "0.0    377925\n",
       "1.0     40235\n",
       "Name: count, dtype: int64"
      ]
     },
     "execution_count": 8,
     "metadata": {},
     "output_type": "execute_result"
    }
   ],
   "source": [
    "# create a variable called 'buyer_yes' that has value 1 when buyer == 'yes', has value 0 when buyer == 'no' and has value np.nan when buyer.isna() is True\n",
    "tuango[\"buyer_yes\"] = np.where(tuango.buyer == 'yes', 1, np.where(tuango.buyer == 'no', 0, np.nan))\n",
    "\n",
    "# you can check that you have this set up correctly using the command below\n",
    "tuango.buyer_yes.value_counts(dropna=False)"
   ]
  },
  {
   "cell_type": "code",
   "execution_count": 9,
   "metadata": {},
   "outputs": [
    {
     "data": {
      "text/html": [
       "<div>\n",
       "<style scoped>\n",
       "    .dataframe tbody tr th:only-of-type {\n",
       "        vertical-align: middle;\n",
       "    }\n",
       "\n",
       "    .dataframe tbody tr th {\n",
       "        vertical-align: top;\n",
       "    }\n",
       "\n",
       "    .dataframe thead th {\n",
       "        text-align: right;\n",
       "    }\n",
       "</style>\n",
       "<table border=\"1\" class=\"dataframe\">\n",
       "  <thead>\n",
       "    <tr style=\"text-align: right;\">\n",
       "      <th></th>\n",
       "      <th>userid</th>\n",
       "      <th>buyer</th>\n",
       "      <th>ordersize</th>\n",
       "      <th>recency</th>\n",
       "      <th>frequency</th>\n",
       "      <th>monetary</th>\n",
       "      <th>age</th>\n",
       "      <th>gender</th>\n",
       "      <th>music</th>\n",
       "      <th>training</th>\n",
       "      <th>test</th>\n",
       "      <th>buyer_yes</th>\n",
       "    </tr>\n",
       "  </thead>\n",
       "  <tbody>\n",
       "    <tr>\n",
       "      <th>418155</th>\n",
       "      <td>U83013842</td>\n",
       "      <td>no</td>\n",
       "      <td>0.0</td>\n",
       "      <td>19</td>\n",
       "      <td>4.0</td>\n",
       "      <td>128.00</td>\n",
       "      <td>25</td>\n",
       "      <td>F</td>\n",
       "      <td>yes</td>\n",
       "      <td>NaN</td>\n",
       "      <td>0</td>\n",
       "      <td>0.0</td>\n",
       "    </tr>\n",
       "    <tr>\n",
       "      <th>418156</th>\n",
       "      <td>U45426448</td>\n",
       "      <td>no</td>\n",
       "      <td>0.0</td>\n",
       "      <td>131</td>\n",
       "      <td>2.0</td>\n",
       "      <td>110.74</td>\n",
       "      <td>20</td>\n",
       "      <td>O</td>\n",
       "      <td>yes</td>\n",
       "      <td>NaN</td>\n",
       "      <td>0</td>\n",
       "      <td>0.0</td>\n",
       "    </tr>\n",
       "    <tr>\n",
       "      <th>418157</th>\n",
       "      <td>U48935927</td>\n",
       "      <td>no</td>\n",
       "      <td>0.0</td>\n",
       "      <td>53</td>\n",
       "      <td>1.0</td>\n",
       "      <td>126.00</td>\n",
       "      <td>71</td>\n",
       "      <td>M</td>\n",
       "      <td>no</td>\n",
       "      <td>NaN</td>\n",
       "      <td>0</td>\n",
       "      <td>0.0</td>\n",
       "    </tr>\n",
       "    <tr>\n",
       "      <th>418158</th>\n",
       "      <td>U94568595</td>\n",
       "      <td>no</td>\n",
       "      <td>0.0</td>\n",
       "      <td>12</td>\n",
       "      <td>4.0</td>\n",
       "      <td>98.00</td>\n",
       "      <td>64</td>\n",
       "      <td>M</td>\n",
       "      <td>yes</td>\n",
       "      <td>NaN</td>\n",
       "      <td>0</td>\n",
       "      <td>0.0</td>\n",
       "    </tr>\n",
       "    <tr>\n",
       "      <th>418159</th>\n",
       "      <td>U20558740</td>\n",
       "      <td>no</td>\n",
       "      <td>0.0</td>\n",
       "      <td>10</td>\n",
       "      <td>3.0</td>\n",
       "      <td>260.00</td>\n",
       "      <td>34</td>\n",
       "      <td>F</td>\n",
       "      <td>yes</td>\n",
       "      <td>NaN</td>\n",
       "      <td>0</td>\n",
       "      <td>0.0</td>\n",
       "    </tr>\n",
       "  </tbody>\n",
       "</table>\n",
       "</div>"
      ],
      "text/plain": [
       "           userid buyer  ordersize  recency  frequency  monetary  age gender  \\\n",
       "418155  U83013842    no        0.0       19        4.0    128.00   25      F   \n",
       "418156  U45426448    no        0.0      131        2.0    110.74   20      O   \n",
       "418157  U48935927    no        0.0       53        1.0    126.00   71      M   \n",
       "418158  U94568595    no        0.0       12        4.0     98.00   64      M   \n",
       "418159  U20558740    no        0.0       10        3.0    260.00   34      F   \n",
       "\n",
       "       music  training  test  buyer_yes  \n",
       "418155   yes       NaN     0        0.0  \n",
       "418156   yes       NaN     0        0.0  \n",
       "418157    no       NaN     0        0.0  \n",
       "418158   yes       NaN     0        0.0  \n",
       "418159   yes       NaN     0        0.0  "
      ]
     },
     "execution_count": 9,
     "metadata": {},
     "output_type": "execute_result"
    }
   ],
   "source": [
    "tuango.head()\n",
    "tuango.tail()"
   ]
  },
  {
   "attachments": {},
   "cell_type": "markdown",
   "metadata": {},
   "source": [
    "## Part I:  Preliminary Analysis\n",
    "\n",
    "### Question 1\n",
    "\n",
    "What percentage of customers responded to the deal offer message (i.e., bought the deal)?"
   ]
  },
  {
   "cell_type": "code",
   "execution_count": 10,
   "metadata": {},
   "outputs": [
    {
     "data": {
      "text/plain": [
       "'9.62%'"
      ]
     },
     "execution_count": 10,
     "metadata": {},
     "output_type": "execute_result"
    }
   ],
   "source": [
    "# insert calculation code here\n",
    "# the result should be expressed as a percentage as a string with 2 decimal \n",
    "# places and assigned to q1 (e.g., q1 = '5.43%')\n",
    "per_buyer_yes = tuango.buyer_yes.mean()\n",
    "q1 = per_buyer_yes\n",
    "q1 = f\"{q1:.2%}\"\n",
    "q1"
   ]
  },
  {
   "attachments": {},
   "cell_type": "markdown",
   "metadata": {},
   "source": [
    "### Question 2\n",
    "\n",
    "What was the average number of sessions purchased by customers that bought one or more 30-minute sessions? Use the ordersize variable for your calculation.\n",
    "\n",
    "Create a pivot table with count, mean and std. deviation of `ordersize` by `buyer`"
   ]
  },
  {
   "cell_type": "code",
   "execution_count": 11,
   "metadata": {},
   "outputs": [],
   "source": [
    "tuango_dropped = tuango[tuango['test'] == 1]"
   ]
  },
  {
   "cell_type": "code",
   "execution_count": 12,
   "metadata": {},
   "outputs": [
    {
     "name": "stderr",
     "output_type": "stream",
     "text": [
      "/tmp/ipykernel_14743/606874155.py:4: FutureWarning: The default value of observed=False is deprecated and will change to observed=True in a future version of pandas. Specify observed=False to silence this warning and retain the current behavior\n",
      "  num_yes_no = pd.pivot_table(tuango_dropped, values='ordersize', index='buyer',\n",
      "/tmp/ipykernel_14743/606874155.py:4: FutureWarning: The default value of observed=False is deprecated and will change to observed=True in a future version of pandas. Specify observed=False to silence this warning and retain the current behavior\n",
      "  num_yes_no = pd.pivot_table(tuango_dropped, values='ordersize', index='buyer',\n",
      "/tmp/ipykernel_14743/606874155.py:4: FutureWarning: The default value of observed=False is deprecated and will change to observed=True in a future version of pandas. Specify observed=False to silence this warning and retain the current behavior\n",
      "  num_yes_no = pd.pivot_table(tuango_dropped, values='ordersize', index='buyer',\n"
     ]
    },
    {
     "data": {
      "text/plain": [
       "ordersize    3.941089\n",
       "Name: yes, dtype: float64"
      ]
     },
     "execution_count": 12,
     "metadata": {},
     "output_type": "execute_result"
    }
   ],
   "source": [
    "# insert calculation code here to create a pd.pivot_table that shows\n",
    "# (1) counts the number of yes and no, (2) the mean ordersize, and \n",
    "# (3) the standard deviation in ordersize for yes and no responses\n",
    "num_yes_no = pd.pivot_table(tuango_dropped, values='ordersize', index='buyer', \n",
    "                    aggfunc=['count', 'mean', 'std'])\n",
    "\n",
    "\n",
    "q2 = num_yes_no\n",
    "\n",
    "# the below should show your result\n",
    "# do not apply any rounding to your answer\n",
    "q2.loc[\"yes\", \"mean\"]\n",
    "#q2"
   ]
  },
  {
   "attachments": {},
   "cell_type": "markdown",
   "metadata": {},
   "source": [
    "## Part II: Building Targeting Models\n",
    "### Question 3\n",
    "\n",
    "Estimate a logistic regression model using buyer as the dependent variable (target) and, recency, frequency, monetary, age, gender, and music as the explanatory variables (features)"
   ]
  },
  {
   "cell_type": "code",
   "execution_count": 13,
   "metadata": {},
   "outputs": [
    {
     "data": {
      "text/plain": [
       "buyer\n",
       "no     18888\n",
       "yes     2020\n",
       "Name: count, dtype: int64"
      ]
     },
     "execution_count": 13,
     "metadata": {},
     "output_type": "execute_result"
    }
   ],
   "source": [
    "#tuango_dropped = tuango[tuango['test'] == 1]\n",
    "\n",
    "missing_values_after_dropping = tuango_dropped.isnull().sum()\n",
    "\n",
    "missing_values_after_dropping\n",
    "\n",
    "tuango_dropped.buyer.value_counts(dropna=False)"
   ]
  },
  {
   "cell_type": "code",
   "execution_count": 14,
   "metadata": {},
   "outputs": [
    {
     "name": "stdout",
     "output_type": "stream",
     "text": [
      "Logistic regression (GLM)\n",
      "Data                 : tuango_dropped\n",
      "Response variable    : buyer\n",
      "Level                : yes\n",
      "Explanatory variables: recency, frequency, monetary, age, gender, music\n",
      "Null hyp.: There is no effect of x on buyer\n",
      "Alt. hyp.: There is an effect of x on buyer\n",
      "\n",
      "               OR     OR%  coefficient  std.error  z.value p.value     \n",
      "Intercept   0.051  -94.9%        -2.98      0.097  -30.768  < .001  ***\n",
      "gender[F]   1.731   73.1%         0.55      0.054   10.073  < .001  ***\n",
      "gender[O]   1.078    7.8%         0.07      0.128    0.584   0.559     \n",
      "music[yes]  1.908   90.8%         0.65      0.059   10.912  < .001  ***\n",
      "recency     0.999   -0.1%        -0.00      0.000   -3.292  < .001  ***\n",
      "frequency   1.114   11.4%         0.11      0.010   10.861  < .001  ***\n",
      "monetary    1.002    0.2%         0.00      0.000   12.499  < .001  ***\n",
      "age         0.988   -1.2%        -0.01      0.001   -9.115  < .001  ***\n",
      "\n",
      "Signif. codes:  0 '***' 0.001 '**' 0.01 '*' 0.05 '.' 0.1 ' ' 1\n",
      "\n",
      "Pseudo R-squared (McFadden): 0.046\n",
      "Pseudo R-squared (McFadden adjusted): 0.045\n",
      "Area under the RO Curve (AUC): 0.657\n",
      "Log-likelihood: -6334.179, AIC: 12684.358, BIC: 12747.941\n",
      "Chi-squared: 611.493, df(7), p.value < 0.001 \n",
      "Nr obs: 20,908\n"
     ]
    }
   ],
   "source": [
    "lr = rsm.model.logistic(\n",
    "    data={\"tuango_dropped\": tuango_dropped}, rvar=\"buyer\", lev=\"yes\", evar=[\"recency\", \"frequency\", \"monetary\", \"age\", \"gender\", \"music\"]\n",
    ")\n",
    "\n",
    "#lr.summary(test=[\"recency\", \"frequency\", \"monetary\", \"age\", \"gender\", \"music\"])\n",
    "lr.summary()"
   ]
  },
  {
   "attachments": {},
   "cell_type": "markdown",
   "metadata": {},
   "source": [
    "### Question 4\n",
    "\n",
    "Create Prediction plots for all explanatory variables. Describe the effect of each explanatory variable on the probability that a customer will purchase the karaoke deal"
   ]
  },
  {
   "cell_type": "code",
   "execution_count": 15,
   "metadata": {},
   "outputs": [
    {
     "data": {
      "image/png": "[encoded data removed]",
      "text/plain": [
       "<Figure size 1000x1200 with 6 Axes>"
      ]
     },
     "metadata": {},
     "output_type": "display_data"
    }
   ],
   "source": [
    "lr.plot(\"pred\")"
   ]
  },
  {
   "cell_type": "markdown",
   "metadata": {},
   "source": [
    "recency: The probability of buying the deal decreases as the recency increases. The probability of buying the deal is the highest when the recency is 0. The probability of buying the deal is the lowest when the recency is 300 or more. Keeping all other variables constant.\n",
    "\n",
    "frequency: The probability of buying the deal increases as the frequency increases. The probability of buying the deal is the highest when the frequency is 8 or more. The probability of buying the deal is the lowest when the frequency is 0. Keeping all other variables constant.\n",
    "\n",
    "monetary: The probability of buying the deal increases as the monetary increases. The probability of buying the deal is the highest when the monetary is 300 or more. The probability of buying the deal is the lowest when the monetary is 0. Keeping all other variables constant.\n",
    "\n",
    "age: The probability of buying the deal decreases as the age increases. The probability of buying the deal is the highest when the age is 20. The probability of buying the deal is the lowest when the monetary is 80 or more. Keeping all other variables constant.\n",
    "\n",
    "gender: Males (M) have a lower probability of purchasing the deal compared to females (F). With another category (O) showing a different probability that does not follow a clear trend from this plot alone. Keeping all other variables constant.\n",
    "\n",
    "music: Customers who have a preference for music ('yes') have a higher probability of purchasing the karaoke deal than those who do not ('no'). Keeping all other variables constant."
   ]
  },
  {
   "attachments": {},
   "cell_type": "markdown",
   "metadata": {},
   "source": [
    "### Question 5\n",
    "\n",
    "Use Permutation Importance to assess variable importance. Which variables seem to be most important in the model?"
   ]
  },
  {
   "cell_type": "code",
   "execution_count": 16,
   "metadata": {},
   "outputs": [
    {
     "data": {
      "image/png": "[encoded data removed]",
      "text/plain": [
       "<Figure size 600x500 with 1 Axes>"
      ]
     },
     "metadata": {},
     "output_type": "display_data"
    }
   ],
   "source": [
    "lr.plot(\"vimp\")\n",
    "# The variable with the highest vimp is: Music. \n",
    "# This means that music is the most important variable in predicting whether a customer will buy or not."
   ]
  },
  {
   "attachments": {},
   "cell_type": "markdown",
   "metadata": {},
   "source": [
    "### Question 6\n",
    "\n",
    "Add the predicted values from the logistic regression to the \"tuango\" DataFrame. Use \"pred_logit\" as the variable name. Compare the average of the predicted values to the overall response rate (i.e., percentage of buyers). What do you notice when you do this calculation using only the data used to estimate the model? Explain."
   ]
  },
  {
   "cell_type": "code",
   "execution_count": 17,
   "metadata": {},
   "outputs": [
    {
     "data": {
      "text/html": [
       "<div>\n",
       "<style scoped>\n",
       "    .dataframe tbody tr th:only-of-type {\n",
       "        vertical-align: middle;\n",
       "    }\n",
       "\n",
       "    .dataframe tbody tr th {\n",
       "        vertical-align: top;\n",
       "    }\n",
       "\n",
       "    .dataframe thead th {\n",
       "        text-align: right;\n",
       "    }\n",
       "</style>\n",
       "<table border=\"1\" class=\"dataframe\">\n",
       "  <thead>\n",
       "    <tr style=\"text-align: right;\">\n",
       "      <th></th>\n",
       "      <th>userid</th>\n",
       "      <th>buyer</th>\n",
       "      <th>ordersize</th>\n",
       "      <th>recency</th>\n",
       "      <th>frequency</th>\n",
       "      <th>monetary</th>\n",
       "      <th>age</th>\n",
       "      <th>gender</th>\n",
       "      <th>music</th>\n",
       "      <th>training</th>\n",
       "      <th>test</th>\n",
       "      <th>buyer_yes</th>\n",
       "      <th>pred_logit</th>\n",
       "    </tr>\n",
       "  </thead>\n",
       "  <tbody>\n",
       "    <tr>\n",
       "      <th>0</th>\n",
       "      <td>U15889344</td>\n",
       "      <td>no</td>\n",
       "      <td>0.0</td>\n",
       "      <td>309</td>\n",
       "      <td>7.0</td>\n",
       "      <td>39.799999</td>\n",
       "      <td>44</td>\n",
       "      <td>F</td>\n",
       "      <td>yes</td>\n",
       "      <td>0.0</td>\n",
       "      <td>1</td>\n",
       "      <td>0.0</td>\n",
       "      <td>0.141318</td>\n",
       "    </tr>\n",
       "    <tr>\n",
       "      <th>1</th>\n",
       "      <td>U60246497</td>\n",
       "      <td>no</td>\n",
       "      <td>0.0</td>\n",
       "      <td>297</td>\n",
       "      <td>8.0</td>\n",
       "      <td>39.799999</td>\n",
       "      <td>80</td>\n",
       "      <td>M</td>\n",
       "      <td>yes</td>\n",
       "      <td>1.0</td>\n",
       "      <td>1</td>\n",
       "      <td>0.0</td>\n",
       "      <td>0.064122</td>\n",
       "    </tr>\n",
       "    <tr>\n",
       "      <th>2</th>\n",
       "      <td>U22965759</td>\n",
       "      <td>no</td>\n",
       "      <td>0.0</td>\n",
       "      <td>295</td>\n",
       "      <td>1.0</td>\n",
       "      <td>72.900002</td>\n",
       "      <td>59</td>\n",
       "      <td>F</td>\n",
       "      <td>yes</td>\n",
       "      <td>1.0</td>\n",
       "      <td>1</td>\n",
       "      <td>0.0</td>\n",
       "      <td>0.072710</td>\n",
       "    </tr>\n",
       "    <tr>\n",
       "      <th>3</th>\n",
       "      <td>U40811142</td>\n",
       "      <td>no</td>\n",
       "      <td>0.0</td>\n",
       "      <td>277</td>\n",
       "      <td>1.0</td>\n",
       "      <td>40.000000</td>\n",
       "      <td>37</td>\n",
       "      <td>F</td>\n",
       "      <td>yes</td>\n",
       "      <td>0.0</td>\n",
       "      <td>1</td>\n",
       "      <td>0.0</td>\n",
       "      <td>0.088488</td>\n",
       "    </tr>\n",
       "    <tr>\n",
       "      <th>4</th>\n",
       "      <td>U76283952</td>\n",
       "      <td>no</td>\n",
       "      <td>0.0</td>\n",
       "      <td>259</td>\n",
       "      <td>1.0</td>\n",
       "      <td>21.000000</td>\n",
       "      <td>43</td>\n",
       "      <td>F</td>\n",
       "      <td>yes</td>\n",
       "      <td>1.0</td>\n",
       "      <td>1</td>\n",
       "      <td>0.0</td>\n",
       "      <td>0.080623</td>\n",
       "    </tr>\n",
       "  </tbody>\n",
       "</table>\n",
       "</div>"
      ],
      "text/plain": [
       "      userid buyer  ordersize  recency  frequency   monetary  age gender  \\\n",
       "0  U15889344    no        0.0      309        7.0  39.799999   44      F   \n",
       "1  U60246497    no        0.0      297        8.0  39.799999   80      M   \n",
       "2  U22965759    no        0.0      295        1.0  72.900002   59      F   \n",
       "3  U40811142    no        0.0      277        1.0  40.000000   37      F   \n",
       "4  U76283952    no        0.0      259        1.0  21.000000   43      F   \n",
       "\n",
       "  music  training  test  buyer_yes  pred_logit  \n",
       "0   yes       0.0     1        0.0    0.141318  \n",
       "1   yes       1.0     1        0.0    0.064122  \n",
       "2   yes       1.0     1        0.0    0.072710  \n",
       "3   yes       0.0     1        0.0    0.088488  \n",
       "4   yes       1.0     1        0.0    0.080623  "
      ]
     },
     "execution_count": 17,
     "metadata": {},
     "output_type": "execute_result"
    }
   ],
   "source": [
    "lr_predict = lr.predict()\n",
    "lr_predict\n",
    "tuango['pred_logit'] = lr_predict['prediction']\n",
    "tuango.head()\n",
    "#compare the average of the predicted values to the overall response rate\n",
    "tuango['pred_logit'].mean(), tuango['buyer_yes'].mean()\n",
    "\n",
    "diff = tuango['pred_logit'].mean() - tuango['buyer_yes'].mean()\n",
    "diff\n",
    "\n",
    "tuango['pred_logit'].mean(), tuango['buyer_yes'].mean()\n",
    "\n",
    "# diff between the average of the predicted values and the overall response rate is 2.0122792321330962e-15, which is very small.\n",
    "# This means that the average of the predicted values is very close to the overall response rate.\n",
    "# This means that the model is well calibrated.\n",
    "\n",
    "tuango.head()\n"
   ]
  },
  {
   "attachments": {},
   "cell_type": "markdown",
   "metadata": {},
   "source": [
    "### Question 7\n",
    "\n",
    "Estimate a linear regression model using \"ordersize\" as the response variable and recency, frequency, monetary, age, gender, and music as the explanatory variables. Estimate this regression using only those customers who placed an order after the deal offer message. Describe why you think it does (not) make sense to focus on this group of customers."
   ]
  },
  {
   "cell_type": "code",
   "execution_count": 18,
   "metadata": {},
   "outputs": [
    {
     "name": "stdout",
     "output_type": "stream",
     "text": [
      "Linear regression (OLS)\n",
      "Data                 : tuango\n",
      "Response variable    : ordersize\n",
      "Explanatory variables: recency, frequency, monetary, age, gender, music\n",
      "Null hyp.: the effect of x on ordersize is zero\n",
      "Alt. hyp.: the effect of x on ordersize is not zero\n",
      "\n",
      "            coefficient  std.error  t.value p.value     \n",
      "Intercept         3.715      0.039   96.382  < .001  ***\n",
      "gender[F]         0.099      0.020    5.019  < .001  ***\n",
      "gender[O]         0.242      0.047    5.163  < .001  ***\n",
      "music[yes]        0.007      0.022    0.328   0.743     \n",
      "recency           0.000      0.000    3.805  < .001  ***\n",
      "frequency         0.024      0.003    6.875  < .001  ***\n",
      "monetary          0.000      0.000    5.993  < .001  ***\n",
      "age               0.000      0.001    0.528   0.598     \n",
      "\n",
      "Signif. codes:  0 '***' 0.001 '**' 0.01 '*' 0.05 '.' 0.1 ' ' 1\n",
      "\n",
      "R-squared: 0.003, Adjusted R-squared: 0.003\n",
      "F-statistic: 19.992 df(7, 40227), p.value < 0.001\n",
      "Nr obs: 40,235\n"
     ]
    }
   ],
   "source": [
    "tuango_ordered = tuango[tuango['ordersize'] > 0]\n",
    "linear = rsm.model.regress(data={\"tuango\": tuango_ordered}, rvar=\"ordersize\", evar=[\"recency\", \"frequency\", \"monetary\", \"age\", \"gender\", \"music\"])\n",
    "\n",
    "linear.summary()"
   ]
  },
  {
   "attachments": {},
   "cell_type": "markdown",
   "metadata": {},
   "source": [
    "### Question 8\n",
    "\n",
    "Use Permutation Importance to assess variable importance. Which variables seem to be most important in the model?"
   ]
  },
  {
   "cell_type": "code",
   "execution_count": 19,
   "metadata": {},
   "outputs": [
    {
     "data": {
      "image/png": "[encoded data removed]",
      "text/plain": [
       "<Figure size 600x500 with 1 Axes>"
      ]
     },
     "metadata": {},
     "output_type": "display_data"
    }
   ],
   "source": [
    "linear.plot(\"vimp\")\n",
    "\n",
    "# The variable with the highest vimp is: Frequency. \n",
    "# This means that Frequency is the most important variable in predicting the ordersize."
   ]
  },
  {
   "attachments": {},
   "cell_type": "markdown",
   "metadata": {},
   "source": [
    "### Question 9\n",
    "\n",
    "What do the linear regression model results suggest about our ability to predict ordersize for customers who responded to the deal?\n"
   ]
  },
  {
   "attachments": {},
   "cell_type": "markdown",
   "metadata": {},
   "source": [
    "The linear regression model results suggest that our ability to predict ordersize for customers who responded to the deal is not good. The R-squared is 0.003, which means that only 0.3% of the variation in ordersize is explained by the model. \n"
   ]
  },
  {
   "attachments": {},
   "cell_type": "markdown",
   "metadata": {},
   "source": [
    "### Question 10\n",
    "\n",
    "Add the predicted values from the linear regression to the \"tuango\" data.frame. Compare the average of the predicted values to the average value of ordersize. Make sure to focus only on buyers. What do you notice?"
   ]
  },
  {
   "cell_type": "code",
   "execution_count": 20,
   "metadata": {},
   "outputs": [
    {
     "data": {
      "text/plain": [
       "(3.938113582701612, 3.938113582701628)"
      ]
     },
     "execution_count": 20,
     "metadata": {},
     "output_type": "execute_result"
    }
   ],
   "source": [
    "linear_predict = linear.predict()\n",
    "linear_predict\n",
    "\n",
    "tuango_1 = tuango[tuango['buyer_yes'] == 1].copy()\n",
    "#tuango_1\n",
    "\n",
    "tuango_1['pred_linear'] = linear_predict['prediction']\n",
    "tuango_1.head(20)\n",
    "\n",
    "tuango_1['pred_linear'].mean(), tuango_1['ordersize'].mean()\n",
    "\n",
    "diff = tuango_1['pred_linear'].mean() - tuango_1['ordersize'].mean()\n",
    "diff\n",
    "\n",
    "tuango_1['pred_linear'].mean(), tuango_1[tuango_1['buyer'] == 'yes']['ordersize'].mean()\n",
    "#diff\n",
    "\n",
    "# after comparing the average of the predicted values to the overall response rate, \n",
    "# the diff between the average of the predicted values and the overall response rate is 3.5603257647364233,\n",
    "# which is not very small. This means we need to improve the model.\n"
   ]
  },
  {
   "attachments": {},
   "cell_type": "markdown",
   "metadata": {},
   "source": [
    "## Part III: Profitability Analysis\n",
    "### Question 11\n",
    "\n",
    "What is the breakeven response rate? Use the average ordersize from question 2 in your revenue calculations."
   ]
  },
  {
   "cell_type": "code",
   "execution_count": 21,
   "metadata": {},
   "outputs": [
    {
     "data": {
      "text/plain": [
       "(ordersize    0.093209\n",
       " Name: yes, dtype: float64,\n",
       " ordersize    3.941089\n",
       " Name: yes, dtype: float64)"
      ]
     },
     "execution_count": 21,
     "metadata": {},
     "output_type": "execute_result"
    }
   ],
   "source": [
    "# state your assumptions that are relevant to calculate \n",
    "# the breakeven response rate\n",
    "# breakeven should be of type `float`\n",
    "avg_ordersize = q2.loc[\"yes\", \"mean\"]\n",
    "total_rev_per_order = 49.0 * avg_ordersize\n",
    "tuango_fee = 0.5 * total_rev_per_order\n",
    "#net_rev_per_order = total_rev_per_order - tuango_fee\n",
    "\n",
    "cost = 9.0\n",
    "margin = tuango_fee\n",
    "#margin = net_rev_per_order - cost\n",
    "\n",
    "\n",
    "#cost =  # float\n",
    "#margin =  # float\n",
    "breakeven = cost / margin # float, do not apply rounding, do not express as a percentage\n",
    "q11 = breakeven # float, DO NOT APPLY ROUNDING, do not express as a percentage\n",
    "q11,avg_ordersize"
   ]
  },
  {
   "attachments": {},
   "cell_type": "markdown",
   "metadata": {
    "lines_to_next_cell": 2
   },
   "source": [
    "### Question 12\n",
    "\n",
    "What is the projected profit in RMB and the return on marketing expenditures if you offer the deal to all 397,252 remaining customers (i.e., target everyone)?"
   ]
  },
  {
   "cell_type": "code",
   "execution_count": 22,
   "metadata": {},
   "outputs": [
    {
     "data": {
      "text/plain": [
       "0.09619838289045744"
      ]
     },
     "execution_count": 22,
     "metadata": {},
     "output_type": "execute_result"
    }
   ],
   "source": [
    "tuango.head()\n",
    "tuango_notest = tuango[tuango['test'] == 0].copy()\n",
    "\n",
    "#print(len(tuango_notest))\n",
    "tuango_notest['pred_logit'] = lr.predict(tuango_notest)['prediction']\n",
    "tuango_notest.head(10)\n",
    "\n",
    "buyer_mean = tuango_notest['buyer_yes'].mean()\n",
    "buyer_mean"
   ]
  },
  {
   "cell_type": "code",
   "execution_count": 23,
   "metadata": {},
   "outputs": [
    {
     "data": {
      "text/html": [
       "<div>\n",
       "<style scoped>\n",
       "    .dataframe tbody tr th:only-of-type {\n",
       "        vertical-align: middle;\n",
       "    }\n",
       "\n",
       "    .dataframe tbody tr th {\n",
       "        vertical-align: top;\n",
       "    }\n",
       "\n",
       "    .dataframe thead th {\n",
       "        text-align: right;\n",
       "    }\n",
       "</style>\n",
       "<table border=\"1\" class=\"dataframe\">\n",
       "  <thead>\n",
       "    <tr style=\"text-align: right;\">\n",
       "      <th></th>\n",
       "      <th>userid</th>\n",
       "      <th>buyer</th>\n",
       "      <th>ordersize</th>\n",
       "      <th>recency</th>\n",
       "      <th>frequency</th>\n",
       "      <th>monetary</th>\n",
       "      <th>age</th>\n",
       "      <th>gender</th>\n",
       "      <th>music</th>\n",
       "      <th>training</th>\n",
       "      <th>test</th>\n",
       "      <th>buyer_yes</th>\n",
       "      <th>pred_logit</th>\n",
       "    </tr>\n",
       "  </thead>\n",
       "  <tbody>\n",
       "    <tr>\n",
       "      <th>20908</th>\n",
       "      <td>U78589602</td>\n",
       "      <td>no</td>\n",
       "      <td>0.0</td>\n",
       "      <td>8</td>\n",
       "      <td>1.0</td>\n",
       "      <td>115.330000</td>\n",
       "      <td>71</td>\n",
       "      <td>F</td>\n",
       "      <td>yes</td>\n",
       "      <td>NaN</td>\n",
       "      <td>0</td>\n",
       "      <td>0.0</td>\n",
       "      <td>0.092104</td>\n",
       "    </tr>\n",
       "    <tr>\n",
       "      <th>20909</th>\n",
       "      <td>U83705520</td>\n",
       "      <td>no</td>\n",
       "      <td>0.0</td>\n",
       "      <td>274</td>\n",
       "      <td>1.0</td>\n",
       "      <td>58.000000</td>\n",
       "      <td>46</td>\n",
       "      <td>F</td>\n",
       "      <td>yes</td>\n",
       "      <td>NaN</td>\n",
       "      <td>0</td>\n",
       "      <td>0.0</td>\n",
       "      <td>0.083355</td>\n",
       "    </tr>\n",
       "    <tr>\n",
       "      <th>20910</th>\n",
       "      <td>U59772099</td>\n",
       "      <td>no</td>\n",
       "      <td>0.0</td>\n",
       "      <td>185</td>\n",
       "      <td>8.0</td>\n",
       "      <td>123.599998</td>\n",
       "      <td>46</td>\n",
       "      <td>O</td>\n",
       "      <td>yes</td>\n",
       "      <td>NaN</td>\n",
       "      <td>0</td>\n",
       "      <td>0.0</td>\n",
       "      <td>0.134632</td>\n",
       "    </tr>\n",
       "    <tr>\n",
       "      <th>20911</th>\n",
       "      <td>U22464840</td>\n",
       "      <td>no</td>\n",
       "      <td>0.0</td>\n",
       "      <td>127</td>\n",
       "      <td>3.0</td>\n",
       "      <td>87.810000</td>\n",
       "      <td>46</td>\n",
       "      <td>M</td>\n",
       "      <td>no</td>\n",
       "      <td>NaN</td>\n",
       "      <td>0</td>\n",
       "      <td>0.0</td>\n",
       "      <td>0.041179</td>\n",
       "    </tr>\n",
       "    <tr>\n",
       "      <th>20912</th>\n",
       "      <td>U36020329</td>\n",
       "      <td>no</td>\n",
       "      <td>0.0</td>\n",
       "      <td>31</td>\n",
       "      <td>8.0</td>\n",
       "      <td>95.000000</td>\n",
       "      <td>33</td>\n",
       "      <td>F</td>\n",
       "      <td>yes</td>\n",
       "      <td>NaN</td>\n",
       "      <td>0</td>\n",
       "      <td>0.0</td>\n",
       "      <td>0.244048</td>\n",
       "    </tr>\n",
       "  </tbody>\n",
       "</table>\n",
       "</div>"
      ],
      "text/plain": [
       "          userid buyer  ordersize  recency  frequency    monetary  age gender  \\\n",
       "20908  U78589602    no        0.0        8        1.0  115.330000   71      F   \n",
       "20909  U83705520    no        0.0      274        1.0   58.000000   46      F   \n",
       "20910  U59772099    no        0.0      185        8.0  123.599998   46      O   \n",
       "20911  U22464840    no        0.0      127        3.0   87.810000   46      M   \n",
       "20912  U36020329    no        0.0       31        8.0   95.000000   33      F   \n",
       "\n",
       "      music  training  test  buyer_yes  pred_logit  \n",
       "20908   yes       NaN     0        0.0    0.092104  \n",
       "20909   yes       NaN     0        0.0    0.083355  \n",
       "20910   yes       NaN     0        0.0    0.134632  \n",
       "20911    no       NaN     0        0.0    0.041179  \n",
       "20912   yes       NaN     0        0.0    0.244048  "
      ]
     },
     "execution_count": 23,
     "metadata": {},
     "output_type": "execute_result"
    }
   ],
   "source": [
    "tuango_notest.head()"
   ]
  },
  {
   "cell_type": "code",
   "execution_count": 42,
   "metadata": {},
   "outputs": [
    {
     "data": {
      "text/html": [
       "<div>\n",
       "<style scoped>\n",
       "    .dataframe tbody tr th:only-of-type {\n",
       "        vertical-align: middle;\n",
       "    }\n",
       "\n",
       "    .dataframe tbody tr th {\n",
       "        vertical-align: top;\n",
       "    }\n",
       "\n",
       "    .dataframe thead th {\n",
       "        text-align: right;\n",
       "    }\n",
       "</style>\n",
       "<table border=\"1\" class=\"dataframe\">\n",
       "  <thead>\n",
       "    <tr style=\"text-align: right;\">\n",
       "      <th></th>\n",
       "      <th>userid</th>\n",
       "      <th>buyer</th>\n",
       "      <th>ordersize</th>\n",
       "      <th>recency</th>\n",
       "      <th>frequency</th>\n",
       "      <th>monetary</th>\n",
       "      <th>age</th>\n",
       "      <th>gender</th>\n",
       "      <th>music</th>\n",
       "      <th>training</th>\n",
       "      <th>test</th>\n",
       "      <th>buyer_yes</th>\n",
       "      <th>pred_logit</th>\n",
       "      <th>mailto_logit</th>\n",
       "      <th>message_all</th>\n",
       "    </tr>\n",
       "  </thead>\n",
       "  <tbody>\n",
       "    <tr>\n",
       "      <th>20908</th>\n",
       "      <td>U78589602</td>\n",
       "      <td>no</td>\n",
       "      <td>0.0</td>\n",
       "      <td>8</td>\n",
       "      <td>1.0</td>\n",
       "      <td>115.330000</td>\n",
       "      <td>71</td>\n",
       "      <td>F</td>\n",
       "      <td>yes</td>\n",
       "      <td>NaN</td>\n",
       "      <td>0</td>\n",
       "      <td>0.0</td>\n",
       "      <td>0.092104</td>\n",
       "      <td>0</td>\n",
       "      <td>True</td>\n",
       "    </tr>\n",
       "    <tr>\n",
       "      <th>20909</th>\n",
       "      <td>U83705520</td>\n",
       "      <td>no</td>\n",
       "      <td>0.0</td>\n",
       "      <td>274</td>\n",
       "      <td>1.0</td>\n",
       "      <td>58.000000</td>\n",
       "      <td>46</td>\n",
       "      <td>F</td>\n",
       "      <td>yes</td>\n",
       "      <td>NaN</td>\n",
       "      <td>0</td>\n",
       "      <td>0.0</td>\n",
       "      <td>0.083355</td>\n",
       "      <td>0</td>\n",
       "      <td>True</td>\n",
       "    </tr>\n",
       "    <tr>\n",
       "      <th>20910</th>\n",
       "      <td>U59772099</td>\n",
       "      <td>no</td>\n",
       "      <td>0.0</td>\n",
       "      <td>185</td>\n",
       "      <td>8.0</td>\n",
       "      <td>123.599998</td>\n",
       "      <td>46</td>\n",
       "      <td>O</td>\n",
       "      <td>yes</td>\n",
       "      <td>NaN</td>\n",
       "      <td>0</td>\n",
       "      <td>0.0</td>\n",
       "      <td>0.134632</td>\n",
       "      <td>1</td>\n",
       "      <td>True</td>\n",
       "    </tr>\n",
       "    <tr>\n",
       "      <th>20911</th>\n",
       "      <td>U22464840</td>\n",
       "      <td>no</td>\n",
       "      <td>0.0</td>\n",
       "      <td>127</td>\n",
       "      <td>3.0</td>\n",
       "      <td>87.810000</td>\n",
       "      <td>46</td>\n",
       "      <td>M</td>\n",
       "      <td>no</td>\n",
       "      <td>NaN</td>\n",
       "      <td>0</td>\n",
       "      <td>0.0</td>\n",
       "      <td>0.041179</td>\n",
       "      <td>0</td>\n",
       "      <td>True</td>\n",
       "    </tr>\n",
       "    <tr>\n",
       "      <th>20912</th>\n",
       "      <td>U36020329</td>\n",
       "      <td>no</td>\n",
       "      <td>0.0</td>\n",
       "      <td>31</td>\n",
       "      <td>8.0</td>\n",
       "      <td>95.000000</td>\n",
       "      <td>33</td>\n",
       "      <td>F</td>\n",
       "      <td>yes</td>\n",
       "      <td>NaN</td>\n",
       "      <td>0</td>\n",
       "      <td>0.0</td>\n",
       "      <td>0.244048</td>\n",
       "      <td>1</td>\n",
       "      <td>True</td>\n",
       "    </tr>\n",
       "    <tr>\n",
       "      <th>...</th>\n",
       "      <td>...</td>\n",
       "      <td>...</td>\n",
       "      <td>...</td>\n",
       "      <td>...</td>\n",
       "      <td>...</td>\n",
       "      <td>...</td>\n",
       "      <td>...</td>\n",
       "      <td>...</td>\n",
       "      <td>...</td>\n",
       "      <td>...</td>\n",
       "      <td>...</td>\n",
       "      <td>...</td>\n",
       "      <td>...</td>\n",
       "      <td>...</td>\n",
       "      <td>...</td>\n",
       "    </tr>\n",
       "    <tr>\n",
       "      <th>418155</th>\n",
       "      <td>U83013842</td>\n",
       "      <td>no</td>\n",
       "      <td>0.0</td>\n",
       "      <td>19</td>\n",
       "      <td>4.0</td>\n",
       "      <td>128.000000</td>\n",
       "      <td>25</td>\n",
       "      <td>F</td>\n",
       "      <td>yes</td>\n",
       "      <td>NaN</td>\n",
       "      <td>0</td>\n",
       "      <td>0.0</td>\n",
       "      <td>0.202410</td>\n",
       "      <td>1</td>\n",
       "      <td>True</td>\n",
       "    </tr>\n",
       "    <tr>\n",
       "      <th>418156</th>\n",
       "      <td>U45426448</td>\n",
       "      <td>no</td>\n",
       "      <td>0.0</td>\n",
       "      <td>131</td>\n",
       "      <td>2.0</td>\n",
       "      <td>110.740000</td>\n",
       "      <td>20</td>\n",
       "      <td>O</td>\n",
       "      <td>yes</td>\n",
       "      <td>NaN</td>\n",
       "      <td>0</td>\n",
       "      <td>0.0</td>\n",
       "      <td>0.103399</td>\n",
       "      <td>1</td>\n",
       "      <td>True</td>\n",
       "    </tr>\n",
       "    <tr>\n",
       "      <th>418157</th>\n",
       "      <td>U48935927</td>\n",
       "      <td>no</td>\n",
       "      <td>0.0</td>\n",
       "      <td>53</td>\n",
       "      <td>1.0</td>\n",
       "      <td>126.000000</td>\n",
       "      <td>71</td>\n",
       "      <td>M</td>\n",
       "      <td>no</td>\n",
       "      <td>NaN</td>\n",
       "      <td>0</td>\n",
       "      <td>0.0</td>\n",
       "      <td>0.029175</td>\n",
       "      <td>0</td>\n",
       "      <td>True</td>\n",
       "    </tr>\n",
       "    <tr>\n",
       "      <th>418158</th>\n",
       "      <td>U94568595</td>\n",
       "      <td>no</td>\n",
       "      <td>0.0</td>\n",
       "      <td>12</td>\n",
       "      <td>4.0</td>\n",
       "      <td>98.000000</td>\n",
       "      <td>64</td>\n",
       "      <td>M</td>\n",
       "      <td>yes</td>\n",
       "      <td>NaN</td>\n",
       "      <td>0</td>\n",
       "      <td>0.0</td>\n",
       "      <td>0.077903</td>\n",
       "      <td>0</td>\n",
       "      <td>True</td>\n",
       "    </tr>\n",
       "    <tr>\n",
       "      <th>418159</th>\n",
       "      <td>U20558740</td>\n",
       "      <td>no</td>\n",
       "      <td>0.0</td>\n",
       "      <td>10</td>\n",
       "      <td>3.0</td>\n",
       "      <td>260.000000</td>\n",
       "      <td>34</td>\n",
       "      <td>F</td>\n",
       "      <td>yes</td>\n",
       "      <td>NaN</td>\n",
       "      <td>0</td>\n",
       "      <td>0.0</td>\n",
       "      <td>0.220536</td>\n",
       "      <td>1</td>\n",
       "      <td>True</td>\n",
       "    </tr>\n",
       "  </tbody>\n",
       "</table>\n",
       "<p>397252 rows × 15 columns</p>\n",
       "</div>"
      ],
      "text/plain": [
       "           userid buyer  ordersize  recency  frequency    monetary  age  \\\n",
       "20908   U78589602    no        0.0        8        1.0  115.330000   71   \n",
       "20909   U83705520    no        0.0      274        1.0   58.000000   46   \n",
       "20910   U59772099    no        0.0      185        8.0  123.599998   46   \n",
       "20911   U22464840    no        0.0      127        3.0   87.810000   46   \n",
       "20912   U36020329    no        0.0       31        8.0   95.000000   33   \n",
       "...           ...   ...        ...      ...        ...         ...  ...   \n",
       "418155  U83013842    no        0.0       19        4.0  128.000000   25   \n",
       "418156  U45426448    no        0.0      131        2.0  110.740000   20   \n",
       "418157  U48935927    no        0.0       53        1.0  126.000000   71   \n",
       "418158  U94568595    no        0.0       12        4.0   98.000000   64   \n",
       "418159  U20558740    no        0.0       10        3.0  260.000000   34   \n",
       "\n",
       "       gender music  training  test  buyer_yes  pred_logit  mailto_logit  \\\n",
       "20908       F   yes       NaN     0        0.0    0.092104             0   \n",
       "20909       F   yes       NaN     0        0.0    0.083355             0   \n",
       "20910       O   yes       NaN     0        0.0    0.134632             1   \n",
       "20911       M    no       NaN     0        0.0    0.041179             0   \n",
       "20912       F   yes       NaN     0        0.0    0.244048             1   \n",
       "...       ...   ...       ...   ...        ...         ...           ...   \n",
       "418155      F   yes       NaN     0        0.0    0.202410             1   \n",
       "418156      O   yes       NaN     0        0.0    0.103399             1   \n",
       "418157      M    no       NaN     0        0.0    0.029175             0   \n",
       "418158      M   yes       NaN     0        0.0    0.077903             0   \n",
       "418159      F   yes       NaN     0        0.0    0.220536             1   \n",
       "\n",
       "        message_all  \n",
       "20908          True  \n",
       "20909          True  \n",
       "20910          True  \n",
       "20911          True  \n",
       "20912          True  \n",
       "...             ...  \n",
       "418155         True  \n",
       "418156         True  \n",
       "418157         True  \n",
       "418158         True  \n",
       "418159         True  \n",
       "\n",
       "[397252 rows x 15 columns]"
      ]
     },
     "execution_count": 42,
     "metadata": {},
     "output_type": "execute_result"
    }
   ],
   "source": [
    "tuango_notest['mailto_logit'] = (tuango_notest['pred_logit'].values > 0.093209).astype(int)\n",
    "#nr_mail = tuango.groupby('mailto_logit').mailto_logit.agg(n_obs = 'count')\n",
    "#nr_mail['perc'] = (100 * nr_mail / nr_mail.sum()).round(2).astype(str) + '%'\n",
    "#nr_mail\n",
    "\n",
    "#nr_mail.loc[1, 'perc']\n",
    "\n",
    "tuango_notest"
   ]
  },
  {
   "cell_type": "code",
   "execution_count": 43,
   "metadata": {},
   "outputs": [
    {
     "data": {
      "text/plain": [
       "(397252.0,\n",
       " 3575268.0,\n",
       " 38215.0,\n",
       " 0.09619838289045744,\n",
       " ordersize    7.379827e+06\n",
       " Name: yes, dtype: float64,\n",
       " ordersize    114645.647277\n",
       " Name: yes, dtype: float64,\n",
       " ordersize    0.032066\n",
       " Name: yes, dtype: float64,\n",
       " ordersize    3.941089\n",
       " Name: yes, dtype: float64)"
      ]
     },
     "execution_count": 43,
     "metadata": {},
     "output_type": "execute_result"
    }
   ],
   "source": [
    "# insert calculation code here\n",
    "# all variables should be numeric (integer or float) and of length 1\n",
    "# _all stands for 'targeting all'\n",
    "tuango_notest[\"message_all\"] = True\n",
    "\n",
    "\n",
    "nr_message_all = 397252.0 # total number of messages that would be sent out\n",
    "message_cost_all = cost * nr_message_all# total cost of sending messages to selected customers (float)\n",
    "nr_responses_all = nr_message_all * buyer_mean# total number of positive responses\n",
    "response_rate_all = buyer_mean # expressed as a proportion (no rounding)\n",
    "revenue_all = 49 * nr_responses_all * avg_ordersize# total revenue in RMB (no rounding)\n",
    "profit_all = 0.5 * revenue_all - message_cost_all # 0.5 * revenue - message_cost - total profit in RMB (no rounding)\n",
    "ROME_all = profit_all / message_cost_all# Return on Marketing Expenditures expressed as a proportion (no rounding)\n",
    "\n",
    "#ROME_all\n",
    "#profit_all\n",
    "nr_message_all, message_cost_all, nr_responses_all, response_rate_all, revenue_all, profit_all, ROME_all, avg_ordersize\n"
   ]
  },
  {
   "attachments": {},
   "cell_type": "markdown",
   "metadata": {},
   "source": [
    "### Question 13\n",
    "\n",
    "Evaluate the performance implications of offering the deal to only those customers (out of 397,252) with a predicted probability of purchase greater than the breakeven response rate. Determine the projected profit in RMB and the return on marketing expenditures both approaches.\n",
    "\n",
    "Note: Fine tune your estimate from Q2 above by determining the average amount spent among the people that (1) will receive a message and (2) bought a karaoke deal. Also, use the actual number of messages you plan to send out to the group of customers in the rollout sample (i.e., \"test == 0\")"
   ]
  },
  {
   "cell_type": "code",
   "execution_count": 44,
   "metadata": {},
   "outputs": [
    {
     "data": {
      "text/plain": [
       "174126"
      ]
     },
     "execution_count": 44,
     "metadata": {},
     "output_type": "execute_result"
    }
   ],
   "source": [
    "#predict = tuango_notest.copy()\n",
    "#predict.head()\n",
    "\n",
    "#predictions= lr.predict(predict)['prediction']\n",
    "\n",
    "nr_message_logit = tuango_notest['mailto_logit'].sum()  # total number of messages that would be sent out\n",
    "nr_message_logit"
   ]
  },
  {
   "cell_type": "code",
   "execution_count": 45,
   "metadata": {},
   "outputs": [],
   "source": [
    "#tuango_notest[\"message_logit\"] = tuango_notest.pred_logit > 0.09328\n",
    "#nr_mail = tuango.groupby('message_logit').message_logit.agg(n_obs = 'count')\n",
    "#nr_mail['perc'] = (100 * nr_mail / nr_mail.sum()).round(2).astype(str) + '%'\n",
    "#nr_mail\n",
    "#tuango"
   ]
  },
  {
   "cell_type": "code",
   "execution_count": 46,
   "metadata": {},
   "outputs": [],
   "source": [
    "#tuango_drop = tuango.dropna()"
   ]
  },
  {
   "cell_type": "code",
   "execution_count": 47,
   "metadata": {},
   "outputs": [
    {
     "data": {
      "text/plain": [
       "(0.14483764630210308, 3.9724821570182396)"
      ]
     },
     "execution_count": 47,
     "metadata": {},
     "output_type": "execute_result"
    }
   ],
   "source": [
    "num_buyeryes_message1 = len(tuango_notest[(tuango_notest['mailto_logit']) & (tuango_notest['buyer_yes'] == 1)])\n",
    "message_logit_1 = nr_message_logit\n",
    "response_rate = num_buyeryes_message1 / message_logit_1\n",
    "response_rate\n",
    "\n",
    "avg_ordersize2 = tuango_notest[(tuango_notest['buyer_yes'] == 1) & (tuango_notest['mailto_logit'] == 1)]['ordersize'].mean()\n",
    "response_rate, avg_ordersize2"
   ]
  },
  {
   "cell_type": "code",
   "execution_count": 48,
   "metadata": {},
   "outputs": [
    {
     "data": {
      "text/plain": [
       "(174126,\n",
       " 1567134.0,\n",
       " 25220.0,\n",
       " 0.14483764630210308,\n",
       " 4909114.0,\n",
       " 887423.0,\n",
       " 0.5662712952434189)"
      ]
     },
     "execution_count": 48,
     "metadata": {},
     "output_type": "execute_result"
    }
   ],
   "source": [
    "#nr_message_logit = tuango_drop['message_logit'].sum()# total number of messages that would be sent out\n",
    "message_cost_logit = cost * nr_message_logit# total cost of sending messages to selected customers (float)\n",
    "nr_responses_logit = nr_message_logit * response_rate# total number of positive responses\n",
    "response_rate_logit = response_rate# expressed as a proportion (no rounding)\n",
    "revenue_logit = 49.00 * nr_responses_logit * avg_ordersize2 # total revenue in RMB (no rounding)\n",
    "profit_logit = 0.5 * revenue_logit - message_cost_logit# 0.5 * revenue - message_cost - total profit in RMB (no rounding)\n",
    "ROME_logit = profit_logit / message_cost_logit# Return on Marketing Expenditures expressed as a proportion (no rounding)\n",
    "\n",
    "nr_message_logit, message_cost_logit, nr_responses_logit, response_rate_logit, revenue_logit, profit_logit, ROME_logit\n",
    "\n"
   ]
  },
  {
   "attachments": {},
   "cell_type": "markdown",
   "metadata": {},
   "source": [
    "### Question 14\n",
    "\n",
    "Create a bar chart with profit information for the analyses conducted in questions 12 and 13"
   ]
  },
  {
   "cell_type": "code",
   "execution_count": 49,
   "metadata": {},
   "outputs": [
    {
     "data": {
      "image/png": "[encoded data removed]",
      "text/plain": [
       "<Figure size 640x480 with 1 Axes>"
      ]
     },
     "metadata": {},
     "output_type": "display_data"
    }
   ],
   "source": [
    "# bar chart with profit information\n",
    "import matplotlib.pyplot as plt\n",
    "\n",
    "profit_q12 = 111859.758792\n",
    "profit_q13 = 882755.5\n",
    "\n",
    "# Names of the analyses\n",
    "questions = ['Question 12', 'Question 13']\n",
    "\n",
    "# Corresponding profit values\n",
    "profits = [profit_q12, profit_q13]\n",
    "\n",
    "# Create a bar chart\n",
    "plt.bar(questions, profits, color=['blue', 'green'])\n",
    "\n",
    "# Add title and labels\n",
    "plt.title('Profit Comparison for Questions 12 and 13')\n",
    "plt.xlabel('Question Number')\n",
    "plt.ylabel('Profit (RMB)')\n",
    "\n",
    "# Show the bar chart\n",
    "plt.show()"
   ]
  },
  {
   "attachments": {},
   "cell_type": "markdown",
   "metadata": {},
   "source": [
    "### Question 15\n",
    "\n",
    "Create a bar chart with ROME for the analyses conducted in questions 12 and 13"
   ]
  },
  {
   "cell_type": "code",
   "execution_count": 50,
   "metadata": {},
   "outputs": [
    {
     "data": {
      "image/png": "[encoded data removed]",
      "text/plain": [
       "<Figure size 640x480 with 1 Axes>"
      ]
     },
     "metadata": {},
     "output_type": "display_data"
    }
   ],
   "source": [
    "# bar chart with profit information\n",
    "import matplotlib.pyplot as plt\n",
    "\n",
    "ROME_q12 = 0.031287\n",
    "ROME_q13 = 0.5641969343413716\n",
    "\n",
    "# Names of the analyses\n",
    "questions = ['Question 12', 'Question 13']\n",
    "\n",
    "# Corresponding profit values\n",
    "ROME = [ROME_q12, ROME_q13]\n",
    "\n",
    "# Create a bar chart\n",
    "plt.bar(questions, ROME, color=['blue', 'green'])\n",
    "\n",
    "# Add title and labels\n",
    "plt.title('ROME Comparison for Questions 12 and 13')\n",
    "plt.xlabel('Question Number')\n",
    "plt.ylabel('ROME (RMB)')\n",
    "\n",
    "# Show the bar chart\n",
    "plt.show()"
   ]
  },
  {
   "attachments": {},
   "cell_type": "markdown",
   "metadata": {},
   "source": [
    "### Question 16\n",
    "\n",
    "You also have access to a dataset with the results from the deal offer roll-out (tuango_post.parquet). Tuango decided to contact all remaining 397,252 customers because this would provide data that could be used to evaluate different targeting approaches. The data has a \"test\" variable (test = 1 for the data used in the test, test = 0 for the remaining customers). You can use this variable to help evaluate the actual performance for the targeting approaches evaluated in questions 12 and 13. Re-create the plots from question 14 and 15 based on this new dataset.\n",
    "\n",
    "Copy your tuango-pre.ipynb file to a new file tuango-post.ipynb. Instead of using the tuango_pre.parquet data, load tuango_post.parquet. You should be able to re-use most of your code and text. Calculate the actual performance for both targeting approach on the 'roll out' sample (i.e., test == 0).\n",
    "\n",
    "Hint 1: It is important that you do NOT use any information about buyers that were in the 'roll out' sample (i.e., test == 0) when calculating the break-even response rate etc. for targeting.\n",
    "\n",
    "Hint 2: You have the actual data on what happened in the \"post\" data. Use that information to calculate performance (i.e., do not \"project\" the performance like you had to do for questions 12 and 13).\n",
    "\n"
   ]
  },
  {
   "cell_type": "markdown",
   "metadata": {},
   "source": [
    "### Question 17\n",
    "\n",
    "Please describe how you used Generative AI-tools like ChatGPT to support your work on this assignment. Provide pdfs and/or screenshots of your “discussions” with these tools and comment on what things did and did not go well. Also add any questions you may have about the assignment and the support you received from GenAI so we can discuss these topics in class.\n",
    "\n",
    "Note: No matter how you used Generative AI-tools, you will be expected to fully understand all elements of the assignment. You may be called on in class to walk us through your thought process and how different parts of your code work. \n"
   ]
  }
 ],
 "metadata": {
  "kernelspec": {
   "display_name": "base",
   "language": "python",
   "name": "python3"
  },
  "language_info": {
   "codemirror_mode": {
    "name": "ipython",
    "version": 3
   },
   "file_extension": ".py",
   "mimetype": "text/x-python",
   "name": "python",
   "nbconvert_exporter": "python",
   "pygments_lexer": "ipython3",
   "version": "3.11.7"
  },
  "vscode": {
   "interpreter": {
    "hash": "d4d1e4263499bec80672ea0156c357c1ee493ec2b1c70f0acce89fc37c4a6abe"
   }
  }
 },
 "nbformat": 4,
 "nbformat_minor": 4
}
